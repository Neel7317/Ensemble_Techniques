{
  "nbformat": 4,
  "nbformat_minor": 0,
  "metadata": {
    "colab": {
      "name": "ADA_Boost.ipynb",
      "provenance": [],
      "authorship_tag": "ABX9TyO+395GpsouUOVlr2k0MD/a",
      "include_colab_link": true
    },
    "kernelspec": {
      "name": "python3",
      "display_name": "Python 3"
    },
    "language_info": {
      "name": "python"
    }
  },
  "cells": [
    {
      "cell_type": "markdown",
      "metadata": {
        "id": "view-in-github",
        "colab_type": "text"
      },
      "source": [
        "<a href=\"https://colab.research.google.com/github/Neel7317/Ensemble_Techniques/blob/main/Ada_Boost.ipynb\" target=\"_parent\"><img src=\"https://colab.research.google.com/assets/colab-badge.svg\" alt=\"Open In Colab\"/></a>"
      ]
    },
    {
      "cell_type": "markdown",
      "metadata": {
        "id": "RJsRXsShIP_y"
      },
      "source": [
        "# Let’s see how we can go about implementing AdaBoost in Python. To start, we import the following libraries."
      ]
    },
    {
      "cell_type": "code",
      "metadata": {
        "id": "zV4pMjuJ6tMu"
      },
      "source": [
        "from sklearn.ensemble import AdaBoostClassifier\n",
        "from sklearn.tree import DecisionTreeClassifier\n",
        "from sklearn.datasets import load_breast_cancer\n",
        "import pandas as pd\n",
        "import numpy as np\n",
        "from sklearn.model_selection import train_test_split\n",
        "from sklearn.metrics import confusion_matrix\n",
        "from sklearn.preprocessing import LabelEncoder"
      ],
      "execution_count": 1,
      "outputs": []
    },
    {
      "cell_type": "markdown",
      "metadata": {
        "id": "fcsMmMAEIWbP"
      },
      "source": [
        "In this example, we’ll use AdaBoost to classify tumors as being malignant or benign. We use the scikit-learn API to import the dataset into our program."
      ]
    },
    {
      "cell_type": "code",
      "metadata": {
        "id": "Wsm3kMpxFOSB"
      },
      "source": [
        "breast_cancer = load_breast_cancer()\n",
        "X = pd.DataFrame(breast_cancer.data, columns=breast_cancer.feature_names)\n",
        "y = pd.Categorical.from_codes(breast_cancer.target, breast_cancer.target_names)"
      ],
      "execution_count": 2,
      "outputs": []
    },
    {
      "cell_type": "markdown",
      "metadata": {
        "id": "yuNQB_Q3IdZ3"
      },
      "source": [
        "working with categorical feature, we must encode it as numbers. For this problem, we’ll set malignant to 1 and benign to 0."
      ]
    },
    {
      "cell_type": "code",
      "metadata": {
        "id": "z9QyTPL6Fz3z"
      },
      "source": [
        "encoder = LabelEncoder()\n",
        "binary_encoded_y = pd.Series(encoder.fit_transform(y))"
      ],
      "execution_count": 6,
      "outputs": []
    },
    {
      "cell_type": "markdown",
      "metadata": {
        "id": "2tYdSd3DIkxJ"
      },
      "source": [
        "split our data into training and test sets to evaluate our model’s performance."
      ]
    },
    {
      "cell_type": "code",
      "metadata": {
        "id": "7qoNd8sRF5Ip"
      },
      "source": [
        "train_X, test_X, train_y, test_y = train_test_split(X, binary_encoded_y, random_state=1)"
      ],
      "execution_count": 7,
      "outputs": []
    },
    {
      "cell_type": "markdown",
      "metadata": {
        "id": "_DudTCiPItij"
      },
      "source": [
        "Next, we construct and fit our model to the training set. max_depth=1 is used to tell our model that we’d like our forest to be composed of trees with a single decision node and two leaves. n_estimators is used to specify the total number of trees in the forest."
      ]
    },
    {
      "cell_type": "code",
      "metadata": {
        "colab": {
          "base_uri": "https://localhost:8080/"
        },
        "id": "o1YVv-XrGP9z",
        "outputId": "8594a195-6adb-4178-979e-8d8e6b7d67a6"
      },
      "source": [
        "classifier = AdaBoostClassifier(\n",
        "    DecisionTreeClassifier(max_depth=1),\n",
        "    n_estimators=200\n",
        ")\n",
        "classifier.fit(train_X, train_y)"
      ],
      "execution_count": 8,
      "outputs": [
        {
          "output_type": "execute_result",
          "data": {
            "text/plain": [
              "AdaBoostClassifier(algorithm='SAMME.R',\n",
              "                   base_estimator=DecisionTreeClassifier(ccp_alpha=0.0,\n",
              "                                                         class_weight=None,\n",
              "                                                         criterion='gini',\n",
              "                                                         max_depth=1,\n",
              "                                                         max_features=None,\n",
              "                                                         max_leaf_nodes=None,\n",
              "                                                         min_impurity_decrease=0.0,\n",
              "                                                         min_impurity_split=None,\n",
              "                                                         min_samples_leaf=1,\n",
              "                                                         min_samples_split=2,\n",
              "                                                         min_weight_fraction_leaf=0.0,\n",
              "                                                         presort='deprecated',\n",
              "                                                         random_state=None,\n",
              "                                                         splitter='best'),\n",
              "                   learning_rate=1.0, n_estimators=200, random_state=None)"
            ]
          },
          "metadata": {
            "tags": []
          },
          "execution_count": 8
        }
      ]
    },
    {
      "cell_type": "markdown",
      "metadata": {
        "id": "AYu6myjgI0T5"
      },
      "source": [
        "We use our model to predict whether a tumor is malignant or benign given what it has learnt."
      ]
    },
    {
      "cell_type": "code",
      "metadata": {
        "id": "l0V-3_NeGVHn"
      },
      "source": [
        "predictions = classifier.predict(test_X)"
      ],
      "execution_count": 9,
      "outputs": []
    },
    {
      "cell_type": "markdown",
      "metadata": {
        "id": "o7qYYie7I8rv"
      },
      "source": [
        "Finally, we evaluate the model using a confusion matrix. The model finished with with 2 false positives and 3 false negatives."
      ]
    },
    {
      "cell_type": "code",
      "metadata": {
        "colab": {
          "base_uri": "https://localhost:8080/"
        },
        "id": "Oi3IAy8sGY_2",
        "outputId": "d1db8424-53b4-494c-a3e5-c2d276be66f6"
      },
      "source": [
        "confusion_matrix(test_y, predictions)"
      ],
      "execution_count": 10,
      "outputs": [
        {
          "output_type": "execute_result",
          "data": {
            "text/plain": [
              "array([[86,  2],\n",
              "       [ 3, 52]])"
            ]
          },
          "metadata": {
            "tags": []
          },
          "execution_count": 10
        }
      ]
    },
    {
      "cell_type": "markdown",
      "metadata": {
        "id": "YfLOMLInJa_I"
      },
      "source": [
        "Great model with 95% accuracy is."
      ]
    },
    {
      "cell_type": "code",
      "metadata": {
        "id": "EV__KIlMGcTi"
      },
      "source": [
        "from sklearn.metrics import accuracy_score"
      ],
      "execution_count": 11,
      "outputs": []
    },
    {
      "cell_type": "code",
      "metadata": {
        "colab": {
          "base_uri": "https://localhost:8080/"
        },
        "id": "UbU25nFCJUxd",
        "outputId": "777ebf27-66cf-4ee1-9417-f6fcde473b77"
      },
      "source": [
        "accuracy_score(test_y, predictions)"
      ],
      "execution_count": 12,
      "outputs": [
        {
          "output_type": "execute_result",
          "data": {
            "text/plain": [
              "0.965034965034965"
            ]
          },
          "metadata": {
            "tags": []
          },
          "execution_count": 12
        }
      ]
    },
    {
      "cell_type": "code",
      "metadata": {
        "id": "i47rLcgBJZEs"
      },
      "source": [
        ""
      ],
      "execution_count": null,
      "outputs": []
    }
  ]
}